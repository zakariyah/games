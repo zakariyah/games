{
  "nbformat": 4,
  "nbformat_minor": 0,
  "metadata": {
    "colab": {
      "name": "generate worlds.ipynb",
      "provenance": [],
      "collapsed_sections": [],
      "authorship_tag": "ABX9TyMjasZ/qTN6xrcETdcAnMRp",
      "include_colab_link": true
    },
    "kernelspec": {
      "name": "python3",
      "display_name": "Python 3"
    },
    "language_info": {
      "name": "python"
    }
  },
  "cells": [
    {
      "cell_type": "markdown",
      "metadata": {
        "id": "view-in-github",
        "colab_type": "text"
      },
      "source": [
        "<a href=\"https://colab.research.google.com/github/zakariyah/games/blob/old-state/generate_worlds.ipynb\" target=\"_parent\"><img src=\"https://colab.research.google.com/assets/colab-badge.svg\" alt=\"Open In Colab\"/></a>"
      ]
    },
    {
      "cell_type": "code",
      "source": [
        "import random\n",
        "import math\n",
        "random.seed(10)\n",
        "import networkx as nx\n"
      ],
      "metadata": {
        "id": "Akj9HolyLnf8"
      },
      "execution_count": 1,
      "outputs": []
    },
    {
      "cell_type": "code",
      "execution_count": 2,
      "metadata": {
        "id": "B5wcMASyy33D"
      },
      "outputs": [],
      "source": [
        "world_map = [0] * 64"
      ]
    },
    {
      "cell_type": "code",
      "source": [
        "def display_map(world):\n",
        "  num_in_line = 8\n",
        "  one_line = ''\n",
        "  for i in range(len(world)):\n",
        "    one_line = one_line + str(world[i])\n",
        "    if (i + 1) % num_in_line == 0:\n",
        "       print(one_line)\n",
        "       one_line = ''\n",
        "    else:\n",
        "      one_line = one_line  + ', '\n",
        "\n",
        "display_map(world_map)\n"
      ],
      "metadata": {
        "colab": {
          "base_uri": "https://localhost:8080/"
        },
        "id": "eRVoY1shzE40",
        "outputId": "d177059d-0b0b-4a95-80f6-b9be74d2dbdc"
      },
      "execution_count": 3,
      "outputs": [
        {
          "output_type": "stream",
          "name": "stdout",
          "text": [
            "0, 0, 0, 0, 0, 0, 0, 0\n",
            "0, 0, 0, 0, 0, 0, 0, 0\n",
            "0, 0, 0, 0, 0, 0, 0, 0\n",
            "0, 0, 0, 0, 0, 0, 0, 0\n",
            "0, 0, 0, 0, 0, 0, 0, 0\n",
            "0, 0, 0, 0, 0, 0, 0, 0\n",
            "0, 0, 0, 0, 0, 0, 0, 0\n",
            "0, 0, 0, 0, 0, 0, 0, 0\n"
          ]
        }
      ]
    },
    {
      "cell_type": "code",
      "source": [
        "def convert_to_line(row, col, num_in_line):\n",
        "  return (row * num_in_line) + col \n",
        "\n",
        "def convert_to_row_col(line_num, num_in_line):\n",
        "  row = int(line_num / num_in_line)\n",
        "  col = line_num % num_in_line\n",
        "  return (row, col)"
      ],
      "metadata": {
        "id": "Qa4zsoX4zGES"
      },
      "execution_count": 4,
      "outputs": []
    },
    {
      "cell_type": "code",
      "source": [
        "background_rows = [0, 7]\n",
        "background_cols = [0, 1, 6, 7]\n",
        "num_in_line = 8"
      ],
      "metadata": {
        "id": "mJRC5iZ41dPj"
      },
      "execution_count": 5,
      "outputs": []
    },
    {
      "cell_type": "code",
      "source": [
        "def generate_background_indices(background_rows, background_cols, num_in_line):\n",
        "  background = set()\n",
        "  for row in background_rows: ## populating background rows\n",
        "    for col in range(num_in_line):\n",
        "      background.add(convert_to_line(row, col, num_in_line))\n",
        "  \n",
        "  for col in background_cols: ## populating background cols\n",
        "    for row in range(num_in_line):\n",
        "      background.add(convert_to_line(row, col, num_in_line))\n",
        "  \n",
        "  return list(background)\n",
        "  \n"
      ],
      "metadata": {
        "id": "KMerLw6w3fJ0"
      },
      "execution_count": 6,
      "outputs": []
    },
    {
      "cell_type": "code",
      "source": [
        "background_inds = generate_background_indices(background_rows, background_cols, num_in_line)\n",
        "background_inds"
      ],
      "metadata": {
        "colab": {
          "base_uri": "https://localhost:8080/"
        },
        "id": "skhkaxvtd0f3",
        "outputId": "57854656-b61a-4414-c448-7d686fb61fdf"
      },
      "execution_count": 7,
      "outputs": [
        {
          "output_type": "execute_result",
          "data": {
            "text/plain": [
              "[0,\n",
              " 1,\n",
              " 2,\n",
              " 3,\n",
              " 4,\n",
              " 5,\n",
              " 6,\n",
              " 7,\n",
              " 8,\n",
              " 9,\n",
              " 14,\n",
              " 15,\n",
              " 16,\n",
              " 17,\n",
              " 22,\n",
              " 23,\n",
              " 24,\n",
              " 25,\n",
              " 30,\n",
              " 31,\n",
              " 32,\n",
              " 33,\n",
              " 38,\n",
              " 39,\n",
              " 40,\n",
              " 41,\n",
              " 46,\n",
              " 47,\n",
              " 48,\n",
              " 49,\n",
              " 54,\n",
              " 55,\n",
              " 56,\n",
              " 57,\n",
              " 58,\n",
              " 59,\n",
              " 60,\n",
              " 61,\n",
              " 62,\n",
              " 63]"
            ]
          },
          "metadata": {},
          "execution_count": 7
        }
      ]
    },
    {
      "cell_type": "code",
      "source": [
        "# world_minus_background = [x for x  in world_map_inds if x not in background_inds]\n",
        "# world_minus_background"
      ],
      "metadata": {
        "id": "6e1HMBKMeC9j"
      },
      "execution_count": 9,
      "outputs": []
    },
    {
      "cell_type": "code",
      "source": [
        "start_and_end_goals = set()"
      ],
      "metadata": {
        "id": "zim9xcoe5Qtk"
      },
      "execution_count": 10,
      "outputs": []
    },
    {
      "cell_type": "code",
      "source": [
        "def randomly_select_start_and_end(rem_indices):\n",
        "  two_vals = random.sample(rem_indices, 2)\n",
        "  return two_vals"
      ],
      "metadata": {
        "id": "RNSyO8LVLsTo"
      },
      "execution_count": 11,
      "outputs": []
    },
    {
      "cell_type": "code",
      "source": [
        "def randomly_place_obstacles(rem_indices, percent_obs ): # max percent_obs 50\n",
        "  num_of_obs = math.ceil(len(rem_indices) * percent_obs / 100.0)\n",
        "  return random.sample(rem_indices, num_of_obs)"
      ],
      "metadata": {
        "id": "gK8rz8sIOuWJ"
      },
      "execution_count": 12,
      "outputs": []
    },
    {
      "cell_type": "code",
      "source": [
        "def assign_ind(world_map, indices, val):\n",
        "  for a in indices:\n",
        "    world_map[a] = val\n",
        "  return world_map\n",
        "\n",
        "def assign_indices_to_map(world_map, background, start_and_end, obstacles, free_paths):\n",
        "  world_map = assign_ind(world_map, background, 0)\n",
        "  world_map = assign_ind(world_map, obstacles, 4)\n",
        "  world_map = assign_ind(world_map, free_paths, 3)\n",
        "  start, end = start_and_end\n",
        "  world_map[start] = 1\n",
        "  world_map[end] = 2\n",
        "  return world_map"
      ],
      "metadata": {
        "id": "D6LCVO73P_Td"
      },
      "execution_count": 13,
      "outputs": []
    },
    {
      "cell_type": "code",
      "source": [
        "def get_adj_path(row_col, num_in_line, all_free):\n",
        "  row, col = row_col\n",
        "  right = row, col + 1, 'R'\n",
        "  left = row, col - 1, 'L'\n",
        "  up = row - 1, col, 'U'\n",
        "  down = row + 1, col, 'D'\n",
        "  adj_paths = []\n",
        "  for a in [left, right, up, down]:\n",
        "    # print(a)\n",
        "    if (a[0] < num_in_line) and (a[1] < num_in_line) and (a[0] > 0) and (a[1] > 0):\n",
        "      lin_num = convert_to_line(a[0], a[1], num_in_line)\n",
        "      if lin_num in all_free:\n",
        "          adj_paths.append((lin_num, a[2]))\n",
        "  return adj_paths\n",
        "\n",
        "def build_graph(empty_paths, num_in_line, start, end):\n",
        "  all_free = empty_paths + [start, end]\n",
        "  graph_data = dict()\n",
        "  for ind in all_free:\n",
        "    row_col = convert_to_row_col(ind, num_in_line)\n",
        "    adjacent_paths = get_adj_path(row_col, num_in_line, all_free)\n",
        "    for path in adjacent_paths:\n",
        "      graph_data[(ind, path[0])] = path[1]\n",
        "      # edge = (ind, path[0], path[1])\n",
        "      # graph_data.append(edge)\n",
        "  G = nx.DiGraph()\n",
        "  G.add_edges_from(list(graph_data.keys()))\n",
        "  return G, graph_data\n"
      ],
      "metadata": {
        "id": "6FJmLdMtE0PZ"
      },
      "execution_count": 14,
      "outputs": []
    },
    {
      "cell_type": "code",
      "source": [
        "def get_shortest_path_solution(empty_paths, start, end):\n",
        "  pass"
      ],
      "metadata": {
        "id": "HTKTesKlL9yq"
      },
      "execution_count": 15,
      "outputs": []
    },
    {
      "cell_type": "code",
      "source": [
        "# randomly_select_start_and_end() --  done\n",
        "# randomly_place_obstacles()\n",
        "# get_shortest_path_solution()\n",
        "# assign_difficuly_level()"
      ],
      "metadata": {
        "id": "t56Cuu7fEAaB"
      },
      "execution_count": 16,
      "outputs": []
    },
    {
      "cell_type": "code",
      "source": [
        "random.seed(10)\n",
        "world_map_inds = [x for x in range(len(world_map))]\n",
        "background_inds = generate_background_indices(background_rows, background_cols, num_in_line)\n",
        "world_minus_background = [x for x  in world_map_inds if x not in background_inds]\n",
        "start_and_end = randomly_select_start_and_end(world_minus_background)\n",
        "world_minus_background_minus_startandstop = [x for x  in world_minus_background if x not in start_and_end]\n",
        "obstacles_indices = randomly_place_obstacles(world_minus_background_minus_startandstop, 50)\n",
        "possible_paths = [x for x  in world_minus_background_minus_startandstop if x not in obstacles_indices]"
      ],
      "metadata": {
        "id": "kZj6LtEIwrlG"
      },
      "execution_count": 17,
      "outputs": []
    },
    {
      "cell_type": "code",
      "source": [
        "path_graph, graph_data = build_graph(possible_paths, num_in_line, start_and_end[0], start_and_end[1])"
      ],
      "metadata": {
        "id": "tRP5aEPRMQV4"
      },
      "execution_count": 18,
      "outputs": []
    },
    {
      "cell_type": "code",
      "source": [
        "answer_path = nx.shortest_path(path_graph, source=start_and_end[0], target=start_and_end[1])"
      ],
      "metadata": {
        "id": "qp7l8gf6MvMH"
      },
      "execution_count": 19,
      "outputs": []
    },
    {
      "cell_type": "code",
      "source": [
        "path_graph"
      ],
      "metadata": {
        "colab": {
          "base_uri": "https://localhost:8080/"
        },
        "id": "-TAhG9rYNYb7",
        "outputId": "a144bae4-87fe-4f4e-9717-3e59954b8384"
      },
      "execution_count": 20,
      "outputs": [
        {
          "output_type": "execute_result",
          "data": {
            "text/plain": [
              "<networkx.classes.digraph.DiGraph at 0x7fa224dbd8d0>"
            ]
          },
          "metadata": {},
          "execution_count": 20
        }
      ]
    },
    {
      "cell_type": "code",
      "source": [
        "answer_path"
      ],
      "metadata": {
        "colab": {
          "base_uri": "https://localhost:8080/"
        },
        "id": "o0xnVSYFNHfz",
        "outputId": "ad57b3a8-3096-4af7-e4d5-ada056a093e4"
      },
      "execution_count": 21,
      "outputs": [
        {
          "output_type": "execute_result",
          "data": {
            "text/plain": [
              "[44, 43, 35, 27, 28, 20, 12, 11]"
            ]
          },
          "metadata": {},
          "execution_count": 21
        }
      ]
    },
    {
      "cell_type": "code",
      "source": [
        "[graph_data[x] for x in zip(answer_path, answer_path[1: ])]"
      ],
      "metadata": {
        "colab": {
          "base_uri": "https://localhost:8080/"
        },
        "id": "IkaXXavKMxHE",
        "outputId": "ae7c3ad8-b234-4a0d-fba6-66c435085033"
      },
      "execution_count": 22,
      "outputs": [
        {
          "output_type": "execute_result",
          "data": {
            "text/plain": [
              "['L', 'U', 'U', 'R', 'U', 'U', 'L']"
            ]
          },
          "metadata": {},
          "execution_count": 22
        }
      ]
    },
    {
      "cell_type": "code",
      "source": [
        "world_map = assign_indices_to_map(world_map, background_inds, start_and_end, obstacles_indices, possible_paths)"
      ],
      "metadata": {
        "id": "ZW06szMyRkkK"
      },
      "execution_count": 23,
      "outputs": []
    },
    {
      "cell_type": "code",
      "source": [
        "display_map(world_map)"
      ],
      "metadata": {
        "colab": {
          "base_uri": "https://localhost:8080/"
        },
        "id": "jx4lEwi5SsJ0",
        "outputId": "7e6d16b4-f092-46fa-dab2-6dc804c72a25"
      },
      "execution_count": 24,
      "outputs": [
        {
          "output_type": "stream",
          "name": "stdout",
          "text": [
            "0, 0, 0, 0, 0, 0, 0, 0\n",
            "0, 0, 4, 2, 3, 4, 0, 0\n",
            "0, 0, 3, 4, 3, 4, 0, 0\n",
            "0, 0, 3, 3, 3, 4, 0, 0\n",
            "0, 0, 3, 3, 4, 4, 0, 0\n",
            "0, 0, 4, 3, 1, 3, 0, 0\n",
            "0, 0, 4, 3, 4, 4, 0, 0\n",
            "0, 0, 0, 0, 0, 0, 0, 0\n"
          ]
        }
      ]
    },
    {
      "cell_type": "code",
      "source": [
        "# def\n",
        "# \n",
        "# world_map"
      ],
      "metadata": {
        "id": "c4NcegjRSvvZ"
      },
      "execution_count": 25,
      "outputs": []
    },
    {
      "cell_type": "code",
      "source": [
        ""
      ],
      "metadata": {
        "id": "-CPYGFZFkZSJ"
      },
      "execution_count": 25,
      "outputs": []
    }
  ]
}